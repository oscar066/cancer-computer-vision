{
 "cells": [
  {
   "cell_type": "code",
   "execution_count": null,
   "metadata": {},
   "outputs": [],
   "source": [
    "!pip install kagglehub"
   ]
  },
  {
   "cell_type": "code",
   "execution_count": 1,
   "metadata": {},
   "outputs": [
    {
     "name": "stderr",
     "output_type": "stream",
     "text": [
      "2025-02-10 22:32:40.777594: I tensorflow/core/util/port.cc:153] oneDNN custom operations are on. You may see slightly different numerical results due to floating-point round-off errors from different computation orders. To turn them off, set the environment variable `TF_ENABLE_ONEDNN_OPTS=0`.\n",
      "2025-02-10 22:32:40.788870: E external/local_xla/xla/stream_executor/cuda/cuda_fft.cc:477] Unable to register cuFFT factory: Attempting to register factory for plugin cuFFT when one has already been registered\n",
      "WARNING: All log messages before absl::InitializeLog() is called are written to STDERR\n",
      "E0000 00:00:1739226760.803232    8852 cuda_dnn.cc:8310] Unable to register cuDNN factory: Attempting to register factory for plugin cuDNN when one has already been registered\n",
      "E0000 00:00:1739226760.807117    8852 cuda_blas.cc:1418] Unable to register cuBLAS factory: Attempting to register factory for plugin cuBLAS when one has already been registered\n",
      "2025-02-10 22:32:40.821095: I tensorflow/core/platform/cpu_feature_guard.cc:210] This TensorFlow binary is optimized to use available CPU instructions in performance-critical operations.\n",
      "To enable the following instructions: AVX2 AVX512F AVX512_VNNI AVX512_BF16 AVX512_FP16 AVX_VNNI AMX_TILE AMX_INT8 AMX_BF16 FMA, in other operations, rebuild TensorFlow with the appropriate compiler flags.\n"
     ]
    }
   ],
   "source": [
    "# Import the necessary libraries\n",
    "import tensorflow as tf\n",
    "from tensorflow.keras.models import Sequential, Model\n",
    "from tensorflow.keras.layers import Conv2D, MaxPooling2D, Dropout, Dense, Flatten, BatchNormalization, Input\n",
    "from tensorflow.keras.layers import Activation, AveragePooling2D, Concatenate, Add, GlobalAveragePooling2D\n",
    "from tensorflow.keras.preprocessing.image import  ImageDataGenerator\n",
    "from tensorflow.keras.regularizers import l2\n",
    "from tensorflow.keras.callbacks  import EarlyStopping, ModelCheckpoint, ReduceLROnPlateau\n",
    "\n",
    "import os\n",
    "import warnings\n",
    "warnings.filterwarnings('ignore')"
   ]
  },
  {
   "cell_type": "code",
   "execution_count": 3,
   "metadata": {},
   "outputs": [
    {
     "name": "stdout",
     "output_type": "stream",
     "text": [
      "Downloading from https://www.kaggle.com/api/v1/datasets/download/mohamedhanyyy/chest-ctscan-images?dataset_version_number=1...\n"
     ]
    },
    {
     "name": "stderr",
     "output_type": "stream",
     "text": [
      "100%|██████████| 119M/119M [00:01<00:00, 84.4MB/s] "
     ]
    },
    {
     "name": "stdout",
     "output_type": "stream",
     "text": [
      "Extracting files...\n"
     ]
    },
    {
     "name": "stderr",
     "output_type": "stream",
     "text": [
      "\n"
     ]
    },
    {
     "name": "stdout",
     "output_type": "stream",
     "text": [
      "Path to dataset files: /teamspace/studios/this_studio/.cache/kagglehub/datasets/mohamedhanyyy/chest-ctscan-images/versions/1\n"
     ]
    }
   ],
   "source": [
    "import kagglehub\n",
    "\n",
    "# Download latest version\n",
    "path = kagglehub.dataset_download(\"mohamedhanyyy/chest-ctscan-images\")\n",
    "\n",
    "print(\"Path to dataset files:\", path)"
   ]
  },
  {
   "cell_type": "code",
   "execution_count": 2,
   "metadata": {},
   "outputs": [
    {
     "name": "stdout",
     "output_type": "stream",
     "text": [
      "Directory: /teamspace/studios/this_studio/.cache/kagglehub/datasets/mohamedhanyyy/chest-ctscan-images/versions/1\n",
      "Subdirectories: ['Data']\n",
      "Files: []\n",
      "--------------------------------------------------\n",
      "Directory: /teamspace/studios/this_studio/.cache/kagglehub/datasets/mohamedhanyyy/chest-ctscan-images/versions/1/Data\n",
      "Subdirectories: ['test', 'valid', 'train']\n",
      "Files: []\n",
      "--------------------------------------------------\n",
      "Directory: /teamspace/studios/this_studio/.cache/kagglehub/datasets/mohamedhanyyy/chest-ctscan-images/versions/1/Data/test\n",
      "Subdirectories: ['normal', 'adenocarcinoma', 'squamous.cell.carcinoma', 'large.cell.carcinoma']\n",
      "Files: []\n",
      "--------------------------------------------------\n",
      "Directory: /teamspace/studios/this_studio/.cache/kagglehub/datasets/mohamedhanyyy/chest-ctscan-images/versions/1/Data/test/normal\n",
      "Subdirectories: []\n",
      "Files: ['7 - Copy (2).png', '6 (2).png', '11 (2).png', '7 - Copy - Copy.png', '7 (2) - Copy.png', '11 - Copy - Copy.png', '21.png', '8 - Copy.png', '10 (2) - Copy.png', '6 - Copy.png', '11.png', '10 (2).png', '8 - Copy (2) - Copy.png', '22.png', '24.png', '6 - Copy (2).png', 'normal.png', '7 - Copy.png', '10 - Copy (2) - Copy.png', '10 - Copy (3).png', '8.png', '12 - Copy (2) - Copy.png', '25.png', '11 - Copy (2).png', '10.png', '12 - Copy.png', '7 - Copy (3).png', '11 - Copy.png', '23.png', '12 - Copy - Copy.png', '10 - Copy.png', '8 (2).png', '8 (2) - Copy.png', '7.png', '8 - Copy (3).png', '7 - Copy (2) - Copy.png', '8 - Copy (2).png', '12 - Copy (3).png', 'normal - Copy.png', '6 (2) - Copy.png', '10 - Copy (2).png', '12 (2) - Copy.png', '6 - Copy (2) - Copy.png', '6 - Copy (3).png', '8 - Copy - Copy.png', '11 - Copy (3).png', '12 - Copy (2).png', '10 - Copy - Copy.png', '7 (2).png', '24 - Copy.png', '12 (2).png', '6.png', '11 (2) - Copy.png', '11 - Copy (2) - Copy.png']\n",
      "--------------------------------------------------\n",
      "Directory: /teamspace/studios/this_studio/.cache/kagglehub/datasets/mohamedhanyyy/chest-ctscan-images/versions/1/Data/test/adenocarcinoma\n",
      "Subdirectories: []\n",
      "Files: ['000123 (6).png', '000113 (7).png', '000136 (2).png', '000123 (4).png', '000138 (9).png', '000173 (5).png', '000137 (2).png', '000125 (2).png', '000148 (8).png', '000136 (8).png', '000149 (7).png', '000135 (5).png', '000117.png', '000115.png', '000158 (3).png', '000148 (6).png', '000132.png', '000142.png', '000129 (5).png', '000143 (6).png', '000125 (5).png', '000132 (7).png', '000121 (6).png', '000116 (7).png', '000141 (2).png', '000147.png', '000121 (7).png', '000124 (9).png', '000115 (4).png', '000117 (8).png', '000132 (2).png', '000134 (9).png', '000177 (4).png', '000114 (5).png', '000119 (4).png', '000109 (4).png', '000166 (4).png', '000151 (5).png', '000133 (4).png', '000125 (8).png', '000124 (6).png', '000171 (5).png', '000146 (3).png', '000134 (2).png', '000156 (4).png', '000148.png', '000140.png', '000114.png', '000153 (5).png', '000165 (6).png', '000167 (8).png', '000174 (4).png', '000137 (4).png', '000144 (5).png', '000144 (2).png', '000158 (2).png', '000109 (5).png', '000160 (6).png', '000123 (9).png', '000143 (5).png', '000157 (5).png', '000125 (4).png', '000149 (2).png', '000166 (3).png', '000109 (2).png', '000145 (9).png', '000172 (3).png', '000126 (6).png', '000131 (2).png', '000155.png', '000122 (4).png', '000133 (2).png', '000134.png', '000119 (5).png', '000116 (5).png', '000163 (3).png', '000166 (2).png', '000177.png', '000161 (5).png', '000155 (4).png', '000138 (6).png', '000119 (6).png', '000149 (4).png', '000167 (3).png', '000158 (5).png', '000158 (6).png', '000132 (8).png', '000157 (6).png', '000164 (5).png', '000118 (7).png', '000139.png', '000108 (3).png', '000127 (5).png', '000128 (5).png', '000139 (5).png', '000112 (2).png', '000115 (8).png', '000137 (8).png', '000118 (5).png', '000168 (3).png', '000139 (6).png', '000173 (7).png', '000146 (6).png', '000160 (4).png', '000163 (7).png', '000176 (2).png', '000130 (6).png', '000116 (9).png', '000121.png', '000122.png', '000139 (8).png', '000120.png', '000139 (9).png', '000158.png', '000129.png', '000148 (3).png', '000171.png', '000117 (4).png', '000125 (6).png', '000161 (4).png']\n",
      "--------------------------------------------------\n",
      "Directory: /teamspace/studios/this_studio/.cache/kagglehub/datasets/mohamedhanyyy/chest-ctscan-images/versions/1/Data/test/squamous.cell.carcinoma\n",
      "Subdirectories: []\n",
      "Files: ['000154 (3).png', '000142 (6).png', '000120 (3).png', '000136 (6).png', '000125 (2).png', '000145 (6).png', '000153.png', '000170 (2).png', '000155 (3).png', '000141 (4).png', '000137.png', '000134 (5).png', '000121 (5).png', '000133 (3).png', '000142 (5).png', '000141 (2).png', '000154 (4).png', '000115 (4).png', '000168 (2).png', '000114 (3).png', '000174 (3).png', '000110 (2).png', '000172 (6).png', '000162.png', '000119 (4).png', '000166 (4).png', '000159 (5).png', '000151.png', '000129 (6).png', '000129 (2).png', '000136 (4).png', '000167 (2).png', '000132 (4).png', '000124 (5).png', '000139 (4).png', '000135 (4).png', '000115 (5).png', '000154 (2).png', '000153 (3).png', '000111.png', '000120 (2).png', '000118 (3).png', '000108 (6).png', '000144 (5).png', '000151 (6).png', '000163 (6).png', '000114 (2).png', '000163 (4).png', '000148 (4).png', '000155.png', '000133 (2).png', '000127 (2).png', '000163 (5).png', '000116 (5).png', '000120 (5).png', '000169 (6).png', '000177 (3).png', '000124.png', '000153 (4).png', '000149 (4).png', '000156 (2).png', '000124 (4).png', '000158 (6).png', '000157 (6).png', '000164 (5).png', '000117 (2).png', '000131 (6).png', '000139 (5).png', '000117 (5).png', '000127 (6).png', '000119.png', '000118 (4).png', '000139 (6).png', '000146 (6).png', '000122 (6).png', '000160 (4).png', '000127.png', '000121.png', '000112.png', '000122.png', '000158 (4).png', '000117 (3).png', '000162 (2).png', '000148 (3).png', '000125.png', '000125 (6).png', '000126 (4).png', '000137 (3).png', '000135.png', '000130 (4).png']\n",
      "--------------------------------------------------\n",
      "Directory: /teamspace/studios/this_studio/.cache/kagglehub/datasets/mohamedhanyyy/chest-ctscan-images/versions/1/Data/test/large.cell.carcinoma\n",
      "Subdirectories: []\n",
      "Files: ['000173 (2).png', '000136 (2).png', '000128 (2).png', '000118.png', '000159 (2).png', '000170.png', '000159.png', '000137.png', '000113 (2).png', '000147 (2).png', '000113.png', '000132 (2).png', '000169.png', '000108.png', '000160.png', '000150.png', '000162.png', '000124 (2).png', '000115 (2).png', '000141.png', '000130.png', '000126.png', '000116.png', '000148.png', '000154 (2).png', '000114.png', '000173.png', '000111.png', '000138 (2).png', '000110.png', '000149.png', '000131 (2).png', '000155.png', '000133 (2).png', '000127 (2).png', '000131.png', '000172 (2).png', '000111 (2).png', '000172.png', '000133.png', '000148 (2).png', '000163.png', '000122.png', '000120.png', '000143.png', '000158.png', '000128.png', '000171.png', '000154.png', '000174.png', '000123.png']\n",
      "--------------------------------------------------\n",
      "Directory: /teamspace/studios/this_studio/.cache/kagglehub/datasets/mohamedhanyyy/chest-ctscan-images/versions/1/Data/valid\n",
      "Subdirectories: ['normal', 'adenocarcinoma_left.lower.lobe_T2_N0_M0_Ib', 'large.cell.carcinoma_left.hilum_T2_N2_M0_IIIa', 'squamous.cell.carcinoma_left.hilum_T1_N2_M0_IIIa']\n",
      "Files: []\n",
      "--------------------------------------------------\n",
      "Directory: /teamspace/studios/this_studio/.cache/kagglehub/datasets/mohamedhanyyy/chest-ctscan-images/versions/1/Data/valid/normal\n",
      "Subdirectories: []\n",
      "Files: ['7 - Copy (2).png', '6 - Copy.png', '003828_02_01_174.png', '4 (2).png', '5.png', '7 - Copy (3).png', '7.png', '8 - Copy (3).png', '004007_01_01_519.png', '6 - Copy (2) - Copy.png', '6 - Copy (3).png', '4 - Copy (2).png', '004162_01_01_150.png']\n",
      "--------------------------------------------------\n",
      "Directory: /teamspace/studios/this_studio/.cache/kagglehub/datasets/mohamedhanyyy/chest-ctscan-images/versions/1/Data/valid/adenocarcinoma_left.lower.lobe_T2_N0_M0_Ib\n",
      "Subdirectories: []\n",
      "Files: ['000117.png', '000115.png', '000116 (8).png', '000108 (8).png', '000113.png', '000109 (4).png', '000115 (2).png', '000113 (3).png', '000115 (5).png', '000116 (3).png', '000114.png', '000110 (7).png', '000108 (7).png', '000109 (3).png', '000116 (5).png', '000112 (9).png', '000114 (10).png', '000115 (9).png', '000111 (2).png', '000117 (6).png', '000112 (2).png', '000116 (9).png', '000109 (8).png']\n",
      "--------------------------------------------------\n",
      "Directory: /teamspace/studios/this_studio/.cache/kagglehub/datasets/mohamedhanyyy/chest-ctscan-images/versions/1/Data/valid/large.cell.carcinoma_left.hilum_T2_N2_M0_IIIa\n",
      "Subdirectories: []\n",
      "Files: ['000109.png', '000115.png', '000113 (2).png', '000113.png', '000118 (2).png', '000108.png', '000110 (2).png', '000130.png', '000126.png', '000116.png', '000108 (2).png', '000114.png', '000111.png', '000110.png', '000131.png', '000111 (2).png', '000112.png', '000122.png', '000120.png', '000115 (3).png', '000128.png']\n",
      "--------------------------------------------------\n",
      "Directory: /teamspace/studios/this_studio/.cache/kagglehub/datasets/mohamedhanyyy/chest-ctscan-images/versions/1/Data/valid/squamous.cell.carcinoma_left.hilum_T1_N2_M0_IIIa\n",
      "Subdirectories: []\n",
      "Files: ['000114 (6).png', '000116 (2).png', '000115 (2).png', '000115 (5).png', '000114 (4).png', '000111.png', '000119 (5).png', '000117 (6).png', '000108 (3).png', '000118 (5).png', '000110 (6).png', '000119.png', '000118 (4).png', '000112.png', '000117 (4).png']\n",
      "--------------------------------------------------\n",
      "Directory: /teamspace/studios/this_studio/.cache/kagglehub/datasets/mohamedhanyyy/chest-ctscan-images/versions/1/Data/train\n",
      "Subdirectories: ['normal', 'adenocarcinoma_left.lower.lobe_T2_N0_M0_Ib', 'large.cell.carcinoma_left.hilum_T2_N2_M0_IIIa', 'squamous.cell.carcinoma_left.hilum_T1_N2_M0_IIIa']\n",
      "Files: []\n",
      "--------------------------------------------------\n",
      "Directory: /teamspace/studios/this_studio/.cache/kagglehub/datasets/mohamedhanyyy/chest-ctscan-images/versions/1/Data/train/normal\n",
      "Subdirectories: []\n",
      "Files: ['17 - Copy.png', '7 - Copy (2).png', '20 - Copy (2) - Copy.png', '3 (2) - Copy.png', '18 - Copy (2) - Copy.png', '3 - Copy (2) - Copy.png', '17.png', '17 - Copy - Copy.png', '6 (2).png', 'n7 (2).png', '2 - Copy (3).png', '5 (2).png', '11 (2).png', '16 - Copy (2) - Copy.png', '13.png', '18 - Copy (3).png', '7 - Copy - Copy.png', '7 (2) - Copy.png', '4 - Copy (3).png', '11 - Copy - Copy.png', '17 (2).png', '8 - Copy.png', '3 - Copy.png', '4 (2) - Copy.png', '10 (2) - Copy.png', '20.png', 'n8 (2) - Copy.jpg', 'n6 (2).jpg', '6 - Copy.png', '18 (2) - Copy.png', '3 - Copy - Copy.png', '11.png', '13 - Copy (2).png', '10 (2).png', '13 (2) - Copy.png', '8 - Copy (2) - Copy.png', '6 - Copy (2).png', '5 (2) - Copy.png', 'n8 - Copy.jpg', '20 (2).png', '19 - Copy (2).png', '2 - Copy - Copy.png', '3 (2).png', '16 - Copy (2).png', '18 - Copy (2).png', '7 - Copy.png', '10 - Copy (2) - Copy.png', '10 - Copy (3).png', '12.png', 'n7 (2) - Copy.png', '20 - Copy (2).png', 'n9.jpg', '3.png', '4 (2).png', '8.png', '12 - Copy (2) - Copy.png', '5.png', '21 - Copy (2).png', '20 - Copy (3).png', '16.png', '5 - Copy (2) - Copy.png', '17 (2) - Copy.png', 'n9 (2) - Copy.jpg', '16 (2).png', 'n8 (2).jpg', '11 - Copy (2).png', '18 - Copy - Copy.png', '10.png', '5 - Copy - Copy.png', '2 (2).png', '12 - Copy.png', '7 - Copy (3).png', '17 - Copy (2) - Copy.png', '11 - Copy.png', '19 (2) - Copy.png', '2 - Copy (2).png', '13 - Copy.png', '21 - Copy (2) - Copy.png', '4 - Copy (2) - Copy.png', 'n6.jpg', '13 - Copy (2) - Copy.png', '19 - Copy (2) - Copy.png', '19 - Copy - Copy.png', 'n7.png', 'n8.jpg', 'n6 (2) - Copy.jpg', '12 - Copy - Copy.png', '2.png', '10 - Copy.png', '19 - Copy (3).png', '8 (2).png', '8 (2) - Copy.png', '18 - Copy.png', '20 - Copy - Copy.png', '18.png', '2 (2) - Copy.png', '7.png', '20 - Copy.png', '5 - Copy.png', '8 - Copy (3).png', '7 - Copy (2) - Copy.png', '8 - Copy (2).png', 'n7 - Copy.png', '4 - Copy.png', '12 - Copy (3).png', '16 - Copy.png', '13 - Copy (3).png', '3 - Copy (3).png', '6 (2) - Copy.png', '10 - Copy (2).png', '12 (2) - Copy.png', '18 (2).png', '17 - Copy (2).png', '5 - Copy (2).png', '4 - Copy - Copy.png', '19.png', '21 - Copy - Copy.png', '6 - Copy (2) - Copy.png', '16 - Copy (3).png', '6 - Copy (3).png', '13 (2).png', '8 - Copy - Copy.png', '11 - Copy (3).png', '19 - Copy.png', '16 - Copy - Copy.png', '12 - Copy (2).png', 'n9 - Copy.jpg', '4.png', '10 - Copy - Copy.png', '7 (2).png', '3 - Copy (2).png', '2 - Copy (2) - Copy.png', 'n6 - Copy.jpg', '20 (2) - Copy.png', '2 - Copy.png', '13 - Copy - Copy.png', '6 - Copy - Copy.png', '12 (2).png', '19 (2).png', 'n9 (2).jpg', '5 - Copy (3).png', '6.png', '11 (2) - Copy.png', '4 - Copy (2).png', '21 - Copy.png', '16 (2) - Copy.png', '17 - Copy (3).png', '11 - Copy (2) - Copy.png']\n",
      "--------------------------------------------------\n",
      "Directory: /teamspace/studios/this_studio/.cache/kagglehub/datasets/mohamedhanyyy/chest-ctscan-images/versions/1/Data/train/adenocarcinoma_left.lower.lobe_T2_N0_M0_Ib\n",
      "Subdirectories: []\n",
      "Files: ['000034 (6).png', '000019 (5).png', '000119 (10).png', '000055 (2).png', '000026 (3).png', '000083 (6).png', '000074 (5).png', '000057 (2).png', '000024 (10).png', '000035 (5).png', '000033 (9).png', '000005 (3).png', '000018 (5).png', '000080 (6).png', '000121 (9).png', '000048.png', '000050 (8).png', '000068 (10).png', '000014 (7).png', '000032 (8).png', 'ad15.png', 'ad9.png', '000061.png', '000022.png', '000106 (8).png', '000091.png', 'ad4.png', '000020 (5).png', 'ad22.png', '000106 (10).png', '000079 (6).png', '000016 (9).png', 'ad19.png', '000086 (3).png', '000017 (6).png', '000024 (7).png', '000022 (10).png', 'ad20.png', 'ad13.png', '000091 (3).png', '000102 (7).png', '000089 (8).png', '000098 (8).png', '000102.png', '000097 (10).png', 'ad5.png', '000009 (7).png', 'ad14.png', '000063 (5).png', '000013 (8).png', '000013 (4).png', '000056 (7).png', '000096 (7).png', '000119 (4).png', '000086 (8).png', '000067.png', '000071 (3).png', '000046 (5).png', '000104 (10).png', '000093 (6).png', '000102 (3).png', '000051 (4).png', '000107 (9).png', '000091 (7).png', '000009 (3).png', '000098 (5).png', '000041 (7).png', '000041 (8).png', 'ad1.png', '000072 (10).png', '000068 (9).png', '000048 (8).png', '000063 (3).png', '000040 (10).png', '000022 (2).png', 'ad18.png', '000065 (9).png', '000057.png', '000021 (5).png', '000078 (6).png', '000027 (6).png', '000035 (8).png', '000021 (4).png', '000095 (6).png', '000092 (10).png', '000022 (9).png', '000067 (10).png', '000065 (3).png', '000022 (8).png', '000121 (10).png', '000052 (10).png', '000077 (9).png', '000095.png', '000050 (3).png', '000090 (2).png', '000105 (4).png', '000063 (7).png', '000097 (3).png', '000049 (9).png', '000084 (2).png', '000035 (6).png', '000050 (7).png', 'ad8.png', '000093 (10).png', 'ad17.png', '000066 (10).png', '000119 (5).png', '000024.png', 'ad16.png', '000075 (5).png', '000084 (7).png', 'ad7.png', '000020 (6).png', '000054 (6).png', '000106 (4).png', '000105 (3).png', '000097 (2).png', '000017 (8).png', '000029 (4).png', '000023 (9).png', '000068 (3).png', '000036 (7).png', '000054 (5).png', '000005 (9).png', '000119 (6).png', 'ad11.png', '000058 (4).png', '000083 (3).png', '000035 (4).png', '000058 (5).png', '000066 (9).png', '000044 (10).png', '000087 (4).png', '000054.png', '000069 (6).png', '000054 (7).png', '000031 (3).png', '000023 (7).png', '000023 (10).png', '000026 (10).png', '000065 (8).png', '000023 (5).png', '000118 (4).png', '000015 (9).png', 'ad21.png', '000021 (6).png', '000015 (4).png', '000118 (6).png', '000021 (8).png', '000044 (9).png', '000080 (10).png', '000085 (4).png', '000099 (7).png', '000042 (10).png', '000081 (2).png', '000059 (7).png', '000000 (6).png', '000036 (6).png', '000121.png', '000084 (3).png', '000122.png', '000100 (10).png', '000015 (10).png', '000030 (4).png', 'ad12.png', 'ad3.png', 'ad2.png', '000041 (2).png', '000040 (3).png', '000025 (6).png', '000029 (9).png', '000049 (5).png', 'ad10.png', '000029 (5).png', '000087 (8).png', '000021 (3).png', '000041 (4).png', '000008 (10).png', '000040 (5).png', '000102 (2).png', '000085 (7).png', '000024 (6).png', '000084.png', '000085 (10).png', '000105.png', '000093 (4).png', '000020 (10).png', '000101 (7).png', '000103 (9).png', '000077 (6).png', '000051 (3).png', 'ad6.png', '000027 (4).png', '000104 (4).png', '000050 (5).png']\n",
      "--------------------------------------------------\n",
      "Directory: /teamspace/studios/this_studio/.cache/kagglehub/datasets/mohamedhanyyy/chest-ctscan-images/versions/1/Data/train/large.cell.carcinoma_left.hilum_T2_N2_M0_IIIa\n",
      "Subdirectories: []\n",
      "Files: ['000024 (2).png', '000077.png', '000080.png', '000076 (3).png', '000019 (3).png', '000055 (4).png', '000059 (4).png', 'di1.png', '000069.png', '000098 (3).png', '000003 (4).png', '000159.png', '000089.png', '000094 (3).png', '000055 (3).png', '000056 (3).png', '000137.png', '000066.png', '000068 (4).png', 'l1.png', '000095 (2).png', '000058 (3).png', '000169.png', '000042 (2).png', '000150.png', '000081.png', '000062 (2).png', '000032.png', '000068.png', '000041 (3).png', '000055.png', '000009 (3).png', '000015.png', '000060.png', '000020 (4).png', '000094 (2).png', '000062 (3).png', '000039 (3).png', '000002.png', '000057.png', '000095 (4).png', '000063.png', '000106 (2).png', '000072 (2).png', '000104 (2).png', '000047 (2).png', '000016 (4).png', '000021.png', '000173.png', '000095.png', '000010.png', '000016 (3).png', '000071 (2).png', '000084 (2).png', '000149.png', '000027 (2).png', '000094 (4).png', '000041.png', '000073 (2).png', '000106.png', '000056 (4).png', '000051.png', '000057 (3).png', '000009 (4).png', '000078 (4).png', '000097 (2).png', '000065 (2).png', '000033 (4).png', '000068 (3).png', '000043 (2).png', '000104.png', 'l3.png', '000066 (2).png', '000097.png', '000031 (2).png', '000058 (4).png', '000098 (4).png', '000019 (4).png', '000172.png', '000040 (2).png', '000095 (3).png', '000046.png', '000078 (3).png', '000133.png', 'l5.png', '000031.png', '000062 (4).png', 'l2.png', '000093 (3).png', 'l4.png', '000027.png', '000018 (2).png', '000026 (2).png', '000039 (4).png', '000063 (2).png', '000057 (4).png', '000003 (3).png', '000062.png', '000034 (2).png', '000105 (2).png', '000143.png', '000045.png', '000041 (4).png', '000084.png', '000020 (3).png', '000017.png', 'l6.png', '000154.png', '000105.png', '000059 (3).png', '000076 (4).png', '000093 (4).png', '000023 (2).png', '000026.png', '000033 (3).png']\n",
      "--------------------------------------------------\n",
      "Directory: /teamspace/studios/this_studio/.cache/kagglehub/datasets/mohamedhanyyy/chest-ctscan-images/versions/1/Data/train/squamous.cell.carcinoma_left.hilum_T1_N2_M0_IIIa\n",
      "Subdirectories: []\n",
      "Files: ['000055 (2).png', '000067 (2).png', '000083 (6).png', '000074 (5).png', '000035 (5).png', '000007.png', '000004 (5).png', '000048.png', '000083 (5).png', '000002 (4).png', '000082 (3).png', '000096.png', '000099 (3).png', '000073 (6).png', '000038 (2).png', '000038 (7).png', '000006 (4).png', '000122 (3).png', '000094 (3).png', '000036 (4).png', '000055 (3).png', '000038 (5).png', '000028 (5).png', '000081 (3).png', '000079.png', '000015 (5).png', '000024 (7).png', '000066.png', '000054 (3).png', 'sq1.png', '000068 (4).png', '000067 (5).png', '000065 (5).png', '000015 (7).png', '000083 (7).png', '000058 (3).png', '000078 (7).png', 'sq3.png', '000079 (5).png', '000101 (3).png', '000056 (7).png', '000081.png', '000070 (2).png', '000057 (6).png', '000071 (3).png', '000081 (6).png', '000032.png', '000046 (5).png', '000028 (7).png', '000058.png', '000067 (7).png', '000078.png', '000067 (3).png', '000091 (7).png', '000004 (7).png', '000100 (4).png', '000006.png', 'sq2.png', '000103.png', '000069 (2).png', '000085.png', '000063 (3).png', '000063 (6).png', '000008 (3).png', '000030 (2).png', '000063.png', '000030 (5).png', '000070.png', '000088.png', '000048 (7).png', '000089 (4).png', '000106 (7).png', '000093.png', '000065 (7).png', '000013 (6).png', '000037 (2).png', '000078 (5).png', '000104 (2).png', '000121 (2).png', '000075.png', '000106 (5).png', 'sq5.png', '000090 (6).png', '000105 (7).png', '000120 (2).png', '000062 (7).png', '000077 (2).png', '000016 (3).png', '000043 (3).png', '000077 (5).png', '000010 (6).png', '000046 (4).png', '000004 (4).png', '000060 (2).png', '000007 (4).png', 'sq4.png', '000049 (3).png', '000043.png', '000027 (2).png', '000084 (5).png', '000048 (5).png', '000050 (2).png', '000082 (4).png', '000002 (6).png', '000064 (4).png', 'sq6.png', '000106 (3).png', '000084 (7).png', '000053.png', '000057 (7).png', '000057 (3).png', '000106 (4).png', '000074 (7).png', '000018 (6).png', '000029 (4).png', '000003.png', '000104.png', '000066 (2).png', '000074 (6).png', '000096 (2).png', '000058 (5).png', '000077 (4).png', '000024 (5).png', '000009 (2).png', '000033.png', '000083 (2).png', '000054.png', '000050 (6).png', '000091 (5).png', '000062 (5).png', '000120 (4).png', '000017 (4).png', '000105 (5).png', '000079 (7).png', '000044 (2).png', '000046 (7).png', '000030 (7).png', '000057 (5).png', '000035.png', '000052 (4).png', '000106 (6).png', '000121.png', '000057 (4).png', '000084 (3).png', '000122.png', '000094.png', '000120 (6).png', '000058 (7).png', '000041 (4).png', '000028 (4).png', '000046 (6).png', '000053 (6).png', '000056 (5).png', '000099 (2).png', '000051 (3).png']\n",
      "--------------------------------------------------\n"
     ]
    }
   ],
   "source": [
    "import os\n",
    "\n",
    "dataset_path = \"/teamspace/studios/this_studio/.cache/kagglehub/datasets/mohamedhanyyy/chest-ctscan-images/versions/1\" \n",
    "\n",
    "# Check downloaded dataset structure\n",
    "for root, dirs, files in os.walk(dataset_path):\n",
    "    print(f\"Directory: {root}\")\n",
    "    print(f\"Subdirectories: {dirs}\")\n",
    "    print(f\"Files: {files}\")\n",
    "    print(\"-\" * 50)\n"
   ]
  },
  {
   "cell_type": "code",
   "execution_count": 4,
   "metadata": {},
   "outputs": [
    {
     "name": "stdout",
     "output_type": "stream",
     "text": [
      "Found 613 files belonging to 4 classes.\n",
      "Found 72 files belonging to 4 classes.\n",
      "Found 315 files belonging to 4 classes.\n"
     ]
    }
   ],
   "source": [
    "import tensorflow as tf\n",
    "from tensorflow.keras.preprocessing import image_dataset_from_directory\n",
    "\n",
    "# Define dataset paths\n",
    "dataset_path = \"/teamspace/studios/this_studio/.cache/kagglehub/datasets/mohamedhanyyy/chest-ctscan-images/versions/1/Data\"\n",
    "\n",
    "# Load datasets\n",
    "img_size = (224, 224)\n",
    "batch_size = 32\n",
    "\n",
    "train_dataset = tf.keras.preprocessing.image_dataset_from_directory(\n",
    "    dataset_path + \"/train\", \n",
    "    image_size=img_size, \n",
    "    batch_size=batch_size, \n",
    "    label_mode='categorical')\n",
    "\n",
    "val_dataset = tf.keras.preprocessing.image_dataset_from_directory(\n",
    "    dataset_path + \"/valid\", \n",
    "    image_size=img_size, \n",
    "    batch_size=batch_size, \n",
    "    label_mode='categorical')\n",
    "\n",
    "test_dataset = tf.keras.preprocessing.image_dataset_from_directory(\n",
    "    dataset_path + \"/test\", \n",
    "    image_size=img_size, \n",
    "    batch_size=batch_size, \n",
    "    label_mode='categorical')"
   ]
  },
  {
   "cell_type": "code",
   "execution_count": 6,
   "metadata": {},
   "outputs": [],
   "source": [
    "from tensorflow.keras import layers, models"
   ]
  },
  {
   "cell_type": "code",
   "execution_count": 7,
   "metadata": {},
   "outputs": [],
   "source": [
    "# Normalize images\n",
    "normalization_layer = layers.Rescaling(1./255)\n",
    "train_dataset = train_dataset.map(lambda x, y: (normalization_layer(x), y))\n",
    "val_dataset = val_dataset.map(lambda x, y: (normalization_layer(x), y))\n",
    "test_dataset = test_dataset.map(lambda x, y: (normalization_layer(x), y))"
   ]
  },
  {
   "cell_type": "code",
   "execution_count": 10,
   "metadata": {},
   "outputs": [
    {
     "data": {
      "text/html": [
       "<pre style=\"white-space:pre;overflow-x:auto;line-height:normal;font-family:Menlo,'DejaVu Sans Mono',consolas,'Courier New',monospace\"><span style=\"font-weight: bold\">Model: \"sequential\"</span>\n",
       "</pre>\n"
      ],
      "text/plain": [
       "\u001b[1mModel: \"sequential\"\u001b[0m\n"
      ]
     },
     "metadata": {},
     "output_type": "display_data"
    },
    {
     "data": {
      "text/html": [
       "<pre style=\"white-space:pre;overflow-x:auto;line-height:normal;font-family:Menlo,'DejaVu Sans Mono',consolas,'Courier New',monospace\">┏━━━━━━━━━━━━━━━━━━━━━━━━━━━━━━━━━┳━━━━━━━━━━━━━━━━━━━━━━━━┳━━━━━━━━━━━━━━━┓\n",
       "┃<span style=\"font-weight: bold\"> Layer (type)                    </span>┃<span style=\"font-weight: bold\"> Output Shape           </span>┃<span style=\"font-weight: bold\">       Param # </span>┃\n",
       "┡━━━━━━━━━━━━━━━━━━━━━━━━━━━━━━━━━╇━━━━━━━━━━━━━━━━━━━━━━━━╇━━━━━━━━━━━━━━━┩\n",
       "│ conv2d_3 (<span style=\"color: #0087ff; text-decoration-color: #0087ff\">Conv2D</span>)               │ (<span style=\"color: #00d7ff; text-decoration-color: #00d7ff\">None</span>, <span style=\"color: #00af00; text-decoration-color: #00af00\">222</span>, <span style=\"color: #00af00; text-decoration-color: #00af00\">222</span>, <span style=\"color: #00af00; text-decoration-color: #00af00\">32</span>)   │           <span style=\"color: #00af00; text-decoration-color: #00af00\">896</span> │\n",
       "├─────────────────────────────────┼────────────────────────┼───────────────┤\n",
       "│ max_pooling2d_3 (<span style=\"color: #0087ff; text-decoration-color: #0087ff\">MaxPooling2D</span>)  │ (<span style=\"color: #00d7ff; text-decoration-color: #00d7ff\">None</span>, <span style=\"color: #00af00; text-decoration-color: #00af00\">111</span>, <span style=\"color: #00af00; text-decoration-color: #00af00\">111</span>, <span style=\"color: #00af00; text-decoration-color: #00af00\">32</span>)   │             <span style=\"color: #00af00; text-decoration-color: #00af00\">0</span> │\n",
       "├─────────────────────────────────┼────────────────────────┼───────────────┤\n",
       "│ conv2d_4 (<span style=\"color: #0087ff; text-decoration-color: #0087ff\">Conv2D</span>)               │ (<span style=\"color: #00d7ff; text-decoration-color: #00d7ff\">None</span>, <span style=\"color: #00af00; text-decoration-color: #00af00\">109</span>, <span style=\"color: #00af00; text-decoration-color: #00af00\">109</span>, <span style=\"color: #00af00; text-decoration-color: #00af00\">64</span>)   │        <span style=\"color: #00af00; text-decoration-color: #00af00\">18,496</span> │\n",
       "├─────────────────────────────────┼────────────────────────┼───────────────┤\n",
       "│ max_pooling2d_4 (<span style=\"color: #0087ff; text-decoration-color: #0087ff\">MaxPooling2D</span>)  │ (<span style=\"color: #00d7ff; text-decoration-color: #00d7ff\">None</span>, <span style=\"color: #00af00; text-decoration-color: #00af00\">54</span>, <span style=\"color: #00af00; text-decoration-color: #00af00\">54</span>, <span style=\"color: #00af00; text-decoration-color: #00af00\">64</span>)     │             <span style=\"color: #00af00; text-decoration-color: #00af00\">0</span> │\n",
       "├─────────────────────────────────┼────────────────────────┼───────────────┤\n",
       "│ conv2d_5 (<span style=\"color: #0087ff; text-decoration-color: #0087ff\">Conv2D</span>)               │ (<span style=\"color: #00d7ff; text-decoration-color: #00d7ff\">None</span>, <span style=\"color: #00af00; text-decoration-color: #00af00\">52</span>, <span style=\"color: #00af00; text-decoration-color: #00af00\">52</span>, <span style=\"color: #00af00; text-decoration-color: #00af00\">128</span>)    │        <span style=\"color: #00af00; text-decoration-color: #00af00\">73,856</span> │\n",
       "├─────────────────────────────────┼────────────────────────┼───────────────┤\n",
       "│ max_pooling2d_5 (<span style=\"color: #0087ff; text-decoration-color: #0087ff\">MaxPooling2D</span>)  │ (<span style=\"color: #00d7ff; text-decoration-color: #00d7ff\">None</span>, <span style=\"color: #00af00; text-decoration-color: #00af00\">26</span>, <span style=\"color: #00af00; text-decoration-color: #00af00\">26</span>, <span style=\"color: #00af00; text-decoration-color: #00af00\">128</span>)    │             <span style=\"color: #00af00; text-decoration-color: #00af00\">0</span> │\n",
       "├─────────────────────────────────┼────────────────────────┼───────────────┤\n",
       "│ flatten_1 (<span style=\"color: #0087ff; text-decoration-color: #0087ff\">Flatten</span>)             │ (<span style=\"color: #00d7ff; text-decoration-color: #00d7ff\">None</span>, <span style=\"color: #00af00; text-decoration-color: #00af00\">86528</span>)          │             <span style=\"color: #00af00; text-decoration-color: #00af00\">0</span> │\n",
       "├─────────────────────────────────┼────────────────────────┼───────────────┤\n",
       "│ dense_1 (<span style=\"color: #0087ff; text-decoration-color: #0087ff\">Dense</span>)                 │ (<span style=\"color: #00d7ff; text-decoration-color: #00d7ff\">None</span>, <span style=\"color: #00af00; text-decoration-color: #00af00\">128</span>)            │    <span style=\"color: #00af00; text-decoration-color: #00af00\">11,075,712</span> │\n",
       "├─────────────────────────────────┼────────────────────────┼───────────────┤\n",
       "│ dropout_1 (<span style=\"color: #0087ff; text-decoration-color: #0087ff\">Dropout</span>)             │ (<span style=\"color: #00d7ff; text-decoration-color: #00d7ff\">None</span>, <span style=\"color: #00af00; text-decoration-color: #00af00\">128</span>)            │             <span style=\"color: #00af00; text-decoration-color: #00af00\">0</span> │\n",
       "├─────────────────────────────────┼────────────────────────┼───────────────┤\n",
       "│ dense_2 (<span style=\"color: #0087ff; text-decoration-color: #0087ff\">Dense</span>)                 │ (<span style=\"color: #00d7ff; text-decoration-color: #00d7ff\">None</span>, <span style=\"color: #00af00; text-decoration-color: #00af00\">4</span>)              │           <span style=\"color: #00af00; text-decoration-color: #00af00\">516</span> │\n",
       "└─────────────────────────────────┴────────────────────────┴───────────────┘\n",
       "</pre>\n"
      ],
      "text/plain": [
       "┏━━━━━━━━━━━━━━━━━━━━━━━━━━━━━━━━━┳━━━━━━━━━━━━━━━━━━━━━━━━┳━━━━━━━━━━━━━━━┓\n",
       "┃\u001b[1m \u001b[0m\u001b[1mLayer (type)                   \u001b[0m\u001b[1m \u001b[0m┃\u001b[1m \u001b[0m\u001b[1mOutput Shape          \u001b[0m\u001b[1m \u001b[0m┃\u001b[1m \u001b[0m\u001b[1m      Param #\u001b[0m\u001b[1m \u001b[0m┃\n",
       "┡━━━━━━━━━━━━━━━━━━━━━━━━━━━━━━━━━╇━━━━━━━━━━━━━━━━━━━━━━━━╇━━━━━━━━━━━━━━━┩\n",
       "│ conv2d_3 (\u001b[38;5;33mConv2D\u001b[0m)               │ (\u001b[38;5;45mNone\u001b[0m, \u001b[38;5;34m222\u001b[0m, \u001b[38;5;34m222\u001b[0m, \u001b[38;5;34m32\u001b[0m)   │           \u001b[38;5;34m896\u001b[0m │\n",
       "├─────────────────────────────────┼────────────────────────┼───────────────┤\n",
       "│ max_pooling2d_3 (\u001b[38;5;33mMaxPooling2D\u001b[0m)  │ (\u001b[38;5;45mNone\u001b[0m, \u001b[38;5;34m111\u001b[0m, \u001b[38;5;34m111\u001b[0m, \u001b[38;5;34m32\u001b[0m)   │             \u001b[38;5;34m0\u001b[0m │\n",
       "├─────────────────────────────────┼────────────────────────┼───────────────┤\n",
       "│ conv2d_4 (\u001b[38;5;33mConv2D\u001b[0m)               │ (\u001b[38;5;45mNone\u001b[0m, \u001b[38;5;34m109\u001b[0m, \u001b[38;5;34m109\u001b[0m, \u001b[38;5;34m64\u001b[0m)   │        \u001b[38;5;34m18,496\u001b[0m │\n",
       "├─────────────────────────────────┼────────────────────────┼───────────────┤\n",
       "│ max_pooling2d_4 (\u001b[38;5;33mMaxPooling2D\u001b[0m)  │ (\u001b[38;5;45mNone\u001b[0m, \u001b[38;5;34m54\u001b[0m, \u001b[38;5;34m54\u001b[0m, \u001b[38;5;34m64\u001b[0m)     │             \u001b[38;5;34m0\u001b[0m │\n",
       "├─────────────────────────────────┼────────────────────────┼───────────────┤\n",
       "│ conv2d_5 (\u001b[38;5;33mConv2D\u001b[0m)               │ (\u001b[38;5;45mNone\u001b[0m, \u001b[38;5;34m52\u001b[0m, \u001b[38;5;34m52\u001b[0m, \u001b[38;5;34m128\u001b[0m)    │        \u001b[38;5;34m73,856\u001b[0m │\n",
       "├─────────────────────────────────┼────────────────────────┼───────────────┤\n",
       "│ max_pooling2d_5 (\u001b[38;5;33mMaxPooling2D\u001b[0m)  │ (\u001b[38;5;45mNone\u001b[0m, \u001b[38;5;34m26\u001b[0m, \u001b[38;5;34m26\u001b[0m, \u001b[38;5;34m128\u001b[0m)    │             \u001b[38;5;34m0\u001b[0m │\n",
       "├─────────────────────────────────┼────────────────────────┼───────────────┤\n",
       "│ flatten_1 (\u001b[38;5;33mFlatten\u001b[0m)             │ (\u001b[38;5;45mNone\u001b[0m, \u001b[38;5;34m86528\u001b[0m)          │             \u001b[38;5;34m0\u001b[0m │\n",
       "├─────────────────────────────────┼────────────────────────┼───────────────┤\n",
       "│ dense_1 (\u001b[38;5;33mDense\u001b[0m)                 │ (\u001b[38;5;45mNone\u001b[0m, \u001b[38;5;34m128\u001b[0m)            │    \u001b[38;5;34m11,075,712\u001b[0m │\n",
       "├─────────────────────────────────┼────────────────────────┼───────────────┤\n",
       "│ dropout_1 (\u001b[38;5;33mDropout\u001b[0m)             │ (\u001b[38;5;45mNone\u001b[0m, \u001b[38;5;34m128\u001b[0m)            │             \u001b[38;5;34m0\u001b[0m │\n",
       "├─────────────────────────────────┼────────────────────────┼───────────────┤\n",
       "│ dense_2 (\u001b[38;5;33mDense\u001b[0m)                 │ (\u001b[38;5;45mNone\u001b[0m, \u001b[38;5;34m4\u001b[0m)              │           \u001b[38;5;34m516\u001b[0m │\n",
       "└─────────────────────────────────┴────────────────────────┴───────────────┘\n"
      ]
     },
     "metadata": {},
     "output_type": "display_data"
    },
    {
     "data": {
      "text/html": [
       "<pre style=\"white-space:pre;overflow-x:auto;line-height:normal;font-family:Menlo,'DejaVu Sans Mono',consolas,'Courier New',monospace\"><span style=\"font-weight: bold\"> Total params: </span><span style=\"color: #00af00; text-decoration-color: #00af00\">11,169,476</span> (42.61 MB)\n",
       "</pre>\n"
      ],
      "text/plain": [
       "\u001b[1m Total params: \u001b[0m\u001b[38;5;34m11,169,476\u001b[0m (42.61 MB)\n"
      ]
     },
     "metadata": {},
     "output_type": "display_data"
    },
    {
     "data": {
      "text/html": [
       "<pre style=\"white-space:pre;overflow-x:auto;line-height:normal;font-family:Menlo,'DejaVu Sans Mono',consolas,'Courier New',monospace\"><span style=\"font-weight: bold\"> Trainable params: </span><span style=\"color: #00af00; text-decoration-color: #00af00\">11,169,476</span> (42.61 MB)\n",
       "</pre>\n"
      ],
      "text/plain": [
       "\u001b[1m Trainable params: \u001b[0m\u001b[38;5;34m11,169,476\u001b[0m (42.61 MB)\n"
      ]
     },
     "metadata": {},
     "output_type": "display_data"
    },
    {
     "data": {
      "text/html": [
       "<pre style=\"white-space:pre;overflow-x:auto;line-height:normal;font-family:Menlo,'DejaVu Sans Mono',consolas,'Courier New',monospace\"><span style=\"font-weight: bold\"> Non-trainable params: </span><span style=\"color: #00af00; text-decoration-color: #00af00\">0</span> (0.00 B)\n",
       "</pre>\n"
      ],
      "text/plain": [
       "\u001b[1m Non-trainable params: \u001b[0m\u001b[38;5;34m0\u001b[0m (0.00 B)\n"
      ]
     },
     "metadata": {},
     "output_type": "display_data"
    }
   ],
   "source": [
    "# number of classes\n",
    "num_classes = 4\n",
    "\n",
    "# Define CNN model\n",
    "model = models.Sequential([\n",
    "    layers.Conv2D(32, (3, 3), activation='relu', input_shape=(224, 224, 3)),\n",
    "    layers.MaxPooling2D((2, 2)),\n",
    "    layers.Conv2D(64, (3, 3), activation='relu'),\n",
    "    layers.MaxPooling2D((2, 2)),\n",
    "    layers.Conv2D(128, (3, 3), activation='relu'),\n",
    "    layers.MaxPooling2D((2, 2)),\n",
    "    layers.Flatten(),\n",
    "    layers.Dense(128, activation='relu'),\n",
    "    layers.Dropout(0.5),\n",
    "    layers.Dense(num_classes, activation='softmax')\n",
    "])\n",
    "\n",
    "model.summary()"
   ]
  },
  {
   "cell_type": "code",
   "execution_count": 11,
   "metadata": {},
   "outputs": [],
   "source": [
    "# Compile model\n",
    "model.compile(optimizer='adam', loss='categorical_crossentropy', metrics=['accuracy'])"
   ]
  },
  {
   "cell_type": "code",
   "execution_count": 12,
   "metadata": {},
   "outputs": [
    {
     "name": "stdout",
     "output_type": "stream",
     "text": [
      "Epoch 1/10\n",
      "\u001b[1m20/20\u001b[0m \u001b[32m━━━━━━━━━━━━━━━━━━━━\u001b[0m\u001b[37m\u001b[0m \u001b[1m11s\u001b[0m 492ms/step - accuracy: 0.2869 - loss: 2.1480 - val_accuracy: 0.4861 - val_loss: 1.1621\n",
      "Epoch 2/10\n",
      "\u001b[1m20/20\u001b[0m \u001b[32m━━━━━━━━━━━━━━━━━━━━\u001b[0m\u001b[37m\u001b[0m \u001b[1m10s\u001b[0m 489ms/step - accuracy: 0.5175 - loss: 1.0901 - val_accuracy: 0.5972 - val_loss: 0.9359\n",
      "Epoch 3/10\n",
      "\u001b[1m20/20\u001b[0m \u001b[32m━━━━━━━━━━━━━━━━━━━━\u001b[0m\u001b[37m\u001b[0m \u001b[1m10s\u001b[0m 492ms/step - accuracy: 0.6291 - loss: 0.8610 - val_accuracy: 0.6528 - val_loss: 0.8112\n",
      "Epoch 4/10\n",
      "\u001b[1m20/20\u001b[0m \u001b[32m━━━━━━━━━━━━━━━━━━━━\u001b[0m\u001b[37m\u001b[0m \u001b[1m10s\u001b[0m 475ms/step - accuracy: 0.7070 - loss: 0.6601 - val_accuracy: 0.6944 - val_loss: 0.6973\n",
      "Epoch 5/10\n",
      "\u001b[1m20/20\u001b[0m \u001b[32m━━━━━━━━━━━━━━━━━━━━\u001b[0m\u001b[37m\u001b[0m \u001b[1m10s\u001b[0m 481ms/step - accuracy: 0.7874 - loss: 0.5026 - val_accuracy: 0.7917 - val_loss: 0.5423\n",
      "Epoch 6/10\n",
      "\u001b[1m20/20\u001b[0m \u001b[32m━━━━━━━━━━━━━━━━━━━━\u001b[0m\u001b[37m\u001b[0m \u001b[1m10s\u001b[0m 472ms/step - accuracy: 0.8525 - loss: 0.4108 - val_accuracy: 0.7917 - val_loss: 0.5565\n",
      "Epoch 7/10\n",
      "\u001b[1m20/20\u001b[0m \u001b[32m━━━━━━━━━━━━━━━━━━━━\u001b[0m\u001b[37m\u001b[0m \u001b[1m10s\u001b[0m 468ms/step - accuracy: 0.8761 - loss: 0.2960 - val_accuracy: 0.7917 - val_loss: 0.5516\n",
      "Epoch 8/10\n",
      "\u001b[1m20/20\u001b[0m \u001b[32m━━━━━━━━━━━━━━━━━━━━\u001b[0m\u001b[37m\u001b[0m \u001b[1m10s\u001b[0m 494ms/step - accuracy: 0.9390 - loss: 0.1639 - val_accuracy: 0.7500 - val_loss: 0.6871\n",
      "Epoch 9/10\n",
      "\u001b[1m20/20\u001b[0m \u001b[32m━━━━━━━━━━━━━━━━━━━━\u001b[0m\u001b[37m\u001b[0m \u001b[1m10s\u001b[0m 484ms/step - accuracy: 0.9232 - loss: 0.1767 - val_accuracy: 0.8750 - val_loss: 0.4840\n",
      "Epoch 10/10\n",
      "\u001b[1m20/20\u001b[0m \u001b[32m━━━━━━━━━━━━━━━━━━━━\u001b[0m\u001b[37m\u001b[0m \u001b[1m10s\u001b[0m 498ms/step - accuracy: 0.9311 - loss: 0.2024 - val_accuracy: 0.7361 - val_loss: 0.7084\n"
     ]
    }
   ],
   "source": [
    "# Train model\n",
    "epochs = 10\n",
    "history = model.fit(train_dataset, validation_data=val_dataset, epochs=epochs)"
   ]
  },
  {
   "cell_type": "code",
   "execution_count": 13,
   "metadata": {},
   "outputs": [
    {
     "name": "stdout",
     "output_type": "stream",
     "text": [
      "\u001b[1m10/10\u001b[0m \u001b[32m━━━━━━━━━━━━━━━━━━━━\u001b[0m\u001b[37m\u001b[0m \u001b[1m2s\u001b[0m 142ms/step - accuracy: 0.2714 - loss: 4.1083\n",
      "Test Accuracy: 0.2540\n"
     ]
    }
   ],
   "source": [
    "# Evaluate model\n",
    "test_loss, test_acc = model.evaluate(test_dataset)\n",
    "print(f\"Test Accuracy: {test_acc:.4f}\")"
   ]
  },
  {
   "cell_type": "code",
   "execution_count": 15,
   "metadata": {},
   "outputs": [
    {
     "data": {
      "image/png": "[encoded data removed]",
      "text/plain": [
       "<Figure size 640x480 with 1 Axes>"
      ]
     },
     "metadata": {},
     "output_type": "display_data"
    }
   ],
   "source": [
    "import matplotlib.pyplot as plt\n",
    "\n",
    "\n",
    "# Plot training history\n",
    "plt.plot(history.history['accuracy'], label='Accuracy')\n",
    "plt.plot(history.history['val_accuracy'], label='Validation Accuracy')\n",
    "plt.xlabel('Epochs')\n",
    "plt.ylabel('Accuracy')\n",
    "plt.legend()\n",
    "plt.show()"
   ]
  }
 ],
 "metadata": {
  "language_info": {
   "name": "python"
  }
 },
 "nbformat": 4,
 "nbformat_minor": 2
}
